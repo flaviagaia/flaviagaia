{
  "nbformat": 4,
  "nbformat_minor": 0,
  "metadata": {
    "colab": {
      "name": "Manul GoogleNews",
      "provenance": [],
      "authorship_tag": "ABX9TyMAOlhVMU3qcTVWT7v8WKJ3",
      "include_colab_link": true
    },
    "kernelspec": {
      "name": "python3",
      "display_name": "Python 3"
    },
    "language_info": {
      "name": "python"
    }
  },
  "cells": [
    {
      "cell_type": "markdown",
      "metadata": {
        "id": "view-in-github",
        "colab_type": "text"
      },
      "source": [
        "<a href=\"https://colab.research.google.com/github/flaviagaia/flaviagaia/blob/main/Manul_GoogleNews.ipynb\" target=\"_parent\"><img src=\"https://colab.research.google.com/assets/colab-badge.svg\" alt=\"Open In Colab\"/></a>"
      ]
    },
    {
      "cell_type": "markdown",
      "metadata": {
        "id": "E62J-dDFPI-H"
      },
      "source": [
        "# **Google News**\n",
        "\n",
        "https://pypi.org/project/GoogleNews/"
      ]
    },
    {
      "cell_type": "code",
      "metadata": {
        "colab": {
          "base_uri": "https://localhost:8080/"
        },
        "id": "_ygfxsYQVi5U",
        "outputId": "07a70402-849a-4fa1-ec3b-2c9b01f26ff4"
      },
      "source": [
        "!pip install GoogleNews"
      ],
      "execution_count": null,
      "outputs": [
        {
          "output_type": "stream",
          "text": [
            "Collecting GoogleNews\n",
            "  Downloading GoogleNews-1.5.9-py3-none-any.whl (7.8 kB)\n",
            "Requirement already satisfied: python-dateutil in /usr/local/lib/python3.7/dist-packages (from GoogleNews) (2.8.1)\n",
            "Collecting dateparser\n",
            "  Downloading dateparser-1.0.0-py2.py3-none-any.whl (279 kB)\n",
            "\u001b[K     |████████████████████████████████| 279 kB 6.1 MB/s \n",
            "\u001b[?25hRequirement already satisfied: beautifulsoup4 in /usr/local/lib/python3.7/dist-packages (from GoogleNews) (4.6.3)\n",
            "Requirement already satisfied: pytz in /usr/local/lib/python3.7/dist-packages (from dateparser->GoogleNews) (2018.9)\n",
            "Requirement already satisfied: regex!=2019.02.19 in /usr/local/lib/python3.7/dist-packages (from dateparser->GoogleNews) (2019.12.20)\n",
            "Requirement already satisfied: tzlocal in /usr/local/lib/python3.7/dist-packages (from dateparser->GoogleNews) (1.5.1)\n",
            "Requirement already satisfied: six>=1.5 in /usr/local/lib/python3.7/dist-packages (from python-dateutil->GoogleNews) (1.15.0)\n",
            "Installing collected packages: dateparser, GoogleNews\n",
            "Successfully installed GoogleNews-1.5.9 dateparser-1.0.0\n"
          ],
          "name": "stdout"
        }
      ]
    },
    {
      "cell_type": "code",
      "metadata": {
        "id": "EVYdxvmOcXx2"
      },
      "source": [
        "from GoogleNews import GoogleNews\n",
        "googlenews = GoogleNews(lang='pt')"
      ],
      "execution_count": null,
      "outputs": []
    },
    {
      "cell_type": "code",
      "metadata": {
        "colab": {
          "base_uri": "https://localhost:8080/"
        },
        "id": "dVIJzzieccQQ",
        "outputId": "a5eb835f-5f83-4e59-db6d-644d942e4e9a"
      },
      "source": [
        "entidades = ['flavia', 'bolsonaro', 'brasil', 'presidente', 'Jair messias']\n",
        "\n",
        "for item in entidades: \n",
        "  print(item)\n",
        "  googlenews.search(item)\n",
        "  titulo = googlenews.get_texts()\n",
        "  print(titulo)"
      ],
      "execution_count": null,
      "outputs": [
        {
          "output_type": "stream",
          "text": [
            "flavia\n",
            "['Otaviano Costa surge em clima de romance ao lado de Flávia ...', 'Flavia Pavanelli dá dicas de estilo e revela sua tendência ...', 'Na Amazônia, Flávia Alessandra ostenta boa forma ao ...', '\"Isolada\", Flávia Arruda faz 823 reuniões em 3 meses e ...', 'Flávia Alessandra usa maiô cavado durante viagem à Amazônia', 'Aos 46 anos, Flávia Alessandra deixa virilha sarada à mostra ...', 'Ciro Nogueira aceita convite para Casa Civil com a missão de ...', 'Flávia Saolli é destaque do samba carioca | Gardênia ...', 'Flavia Viana mostra detalhes de sua cobertura dúplex em São ...', 'Flávia Alessandra de maiô: tendências de moda praia da atriz', '\"Sem comentários\", diz Mourão sobre fala de Bolsonaro', '\"Eu não sei o que levou o Bolsonaro a tomar essa decisão\"', \"Bolsonaro veta PL de remédio oral contra câncer: 'Quem ...\", \"''Quem vai pagar?'', diz Bolsonaro sobre veto a remédios ...\", '\"Bolsonaro sempre foi um membro do baixo clero do Centrão ...', 'Leonardo Sakamoto - Bolsonaro, que demitiu cunhado, diz ...', 'Bolsonaro defende veto a lei sobre facilitação do acesso a ...', 'Alexandre Garcia: Bolsonaro está reconhecendo ainda mais ...', 'Ciro no Planalto é mais um estelionato eleitoral de Bolsonaro', \"'Bolsonaro faz aliança para evitar impeachment e punição da ...\", 'Revisão de 170 mil benefícios do INSS começa em agosto', 'Fortaleza busca receita milionária e marca histórica na Copa ...', 'Jogo do Brasil de vôlei masculino terça - 28/7: onde assistir e ...', 'Olimpíadas 2021: Brasil conquista bronze na natação; veja ...', 'BAT Brasil abre inscrições para trainee com salários a partir ...', 'Meteorologia explica massa de ar polar que atingirá o Brasil', 'Olimpíadas 2021: Thaísa diverte web durante transmissão', 'Concurso Banco do Brasil: Cesgranrio encerra inscrições dia ...', 'Brasil e outros 20 países divulgam carta de repúdio à ...', 'Anvisa suspende autorização de importação da vacina Covaxin', 'Presidente assina decreto que regulamenta a Lei Rouanet', 'Governador articula com presidente melhorias em estradas ...', 'Ciro Nogueira aceita convite de presidente para chefiar Casa ...', '\"Sigo em nova missão determinada pelo presidente\", diz ...', 'Rede Gazeta de Rádios transmite entrevista com o presidente ...', 'MP ingressa com ação na Justiça contra parentes de ex ...', 'Coordenador de segurança do presidente assassinado é ...', 'Foco agora, deve ser nos números positivos, afirma ...', 'Vice-presidente do STF mantém quebra de sigilo de servidor ...', 'Presidente da Tunísia impõe recolher obrigatório e proíbe ...', 'Com Bolsonaro, Mendes evita cobranças e propõe que o ...', 'Renata Vasconcellos anuncia decisão de presidente no ...', 'Com aumento de quase 70% no público permitido, Prefeitura ...', 'O cantor Tom Cléber será atração do balneário Portal da ...', 'Governo Federal envia ao Congresso Nacional proposição ...', 'Fundão eleitoral, o combinado custa caro! | ac24horas.com ...', 'Caminhoneiros reivindicam melhorias desde a década de 70', 'Correio do Povo', 'Câmara pede urgência para retorno das aulas presenciais do ...', 'Bolsonaro faz ironia com cargo de vice de Mourão, ao ...', 'Otaviano Costa surge em clima de romance ao lado de Flávia ...', 'Flavia Pavanelli dá dicas de estilo e revela sua tendência ...', 'Na Amazônia, Flávia Alessandra ostenta boa forma ao ...', '\"Isolada\", Flávia Arruda faz 823 reuniões em 3 meses e ...', 'Flávia Alessandra usa maiô cavado durante viagem à Amazônia', 'Aos 46 anos, Flávia Alessandra deixa virilha sarada à mostra ...', 'Ciro Nogueira aceita convite para Casa Civil com a missão de ...', 'Flávia Saolli é destaque do samba carioca | Gardênia ...', 'Flavia Viana mostra detalhes de sua cobertura dúplex em São ...', 'Flávia Alessandra de maiô: tendências de moda praia da atriz']\n",
            "bolsonaro\n",
            "['Otaviano Costa surge em clima de romance ao lado de Flávia ...', 'Flavia Pavanelli dá dicas de estilo e revela sua tendência ...', 'Na Amazônia, Flávia Alessandra ostenta boa forma ao ...', '\"Isolada\", Flávia Arruda faz 823 reuniões em 3 meses e ...', 'Flávia Alessandra usa maiô cavado durante viagem à Amazônia', 'Aos 46 anos, Flávia Alessandra deixa virilha sarada à mostra ...', 'Ciro Nogueira aceita convite para Casa Civil com a missão de ...', 'Flávia Saolli é destaque do samba carioca | Gardênia ...', 'Flavia Viana mostra detalhes de sua cobertura dúplex em São ...', 'Flávia Alessandra de maiô: tendências de moda praia da atriz', '\"Sem comentários\", diz Mourão sobre fala de Bolsonaro', '\"Eu não sei o que levou o Bolsonaro a tomar essa decisão\"', \"Bolsonaro veta PL de remédio oral contra câncer: 'Quem ...\", \"''Quem vai pagar?'', diz Bolsonaro sobre veto a remédios ...\", '\"Bolsonaro sempre foi um membro do baixo clero do Centrão ...', 'Leonardo Sakamoto - Bolsonaro, que demitiu cunhado, diz ...', 'Bolsonaro defende veto a lei sobre facilitação do acesso a ...', 'Alexandre Garcia: Bolsonaro está reconhecendo ainda mais ...', 'Ciro no Planalto é mais um estelionato eleitoral de Bolsonaro', \"'Bolsonaro faz aliança para evitar impeachment e punição da ...\", 'Revisão de 170 mil benefícios do INSS começa em agosto', 'Fortaleza busca receita milionária e marca histórica na Copa ...', 'Jogo do Brasil de vôlei masculino terça - 28/7: onde assistir e ...', 'Olimpíadas 2021: Brasil conquista bronze na natação; veja ...', 'BAT Brasil abre inscrições para trainee com salários a partir ...', 'Meteorologia explica massa de ar polar que atingirá o Brasil', 'Olimpíadas 2021: Thaísa diverte web durante transmissão', 'Concurso Banco do Brasil: Cesgranrio encerra inscrições dia ...', 'Brasil e outros 20 países divulgam carta de repúdio à ...', 'Anvisa suspende autorização de importação da vacina Covaxin', 'Presidente assina decreto que regulamenta a Lei Rouanet', 'Governador articula com presidente melhorias em estradas ...', 'Ciro Nogueira aceita convite de presidente para chefiar Casa ...', '\"Sigo em nova missão determinada pelo presidente\", diz ...', 'Rede Gazeta de Rádios transmite entrevista com o presidente ...', 'MP ingressa com ação na Justiça contra parentes de ex ...', 'Coordenador de segurança do presidente assassinado é ...', 'Foco agora, deve ser nos números positivos, afirma ...', 'Vice-presidente do STF mantém quebra de sigilo de servidor ...', 'Presidente da Tunísia impõe recolher obrigatório e proíbe ...', 'Com Bolsonaro, Mendes evita cobranças e propõe que o ...', 'Renata Vasconcellos anuncia decisão de presidente no ...', 'Com aumento de quase 70% no público permitido, Prefeitura ...', 'O cantor Tom Cléber será atração do balneário Portal da ...', 'Governo Federal envia ao Congresso Nacional proposição ...', 'Fundão eleitoral, o combinado custa caro! | ac24horas.com ...', 'Caminhoneiros reivindicam melhorias desde a década de 70', 'Correio do Povo', 'Câmara pede urgência para retorno das aulas presenciais do ...', 'Bolsonaro faz ironia com cargo de vice de Mourão, ao ...', 'Otaviano Costa surge em clima de romance ao lado de Flávia ...', 'Flavia Pavanelli dá dicas de estilo e revela sua tendência ...', 'Na Amazônia, Flávia Alessandra ostenta boa forma ao ...', '\"Isolada\", Flávia Arruda faz 823 reuniões em 3 meses e ...', 'Flávia Alessandra usa maiô cavado durante viagem à Amazônia', 'Aos 46 anos, Flávia Alessandra deixa virilha sarada à mostra ...', 'Ciro Nogueira aceita convite para Casa Civil com a missão de ...', 'Flávia Saolli é destaque do samba carioca | Gardênia ...', 'Flavia Viana mostra detalhes de sua cobertura dúplex em São ...', 'Flávia Alessandra de maiô: tendências de moda praia da atriz', '\"Sem comentários\", diz Mourão sobre fala de Bolsonaro', \"Bolsonaro veta PL de remédio oral contra câncer: 'Quem ...\", \"''Quem vai pagar?'', diz Bolsonaro sobre veto a remédios ...\", '\"Bolsonaro sempre foi um membro do baixo clero do Centrão ...', 'Leonardo Sakamoto - Bolsonaro, que demitiu cunhado, diz ...', 'Bolsonaro defende veto a lei sobre facilitação do acesso a ...', 'Alexandre Garcia: Bolsonaro está reconhecendo ainda mais ...', 'Ciro no Planalto é mais um estelionato eleitoral de Bolsonaro', \"'Bolsonaro faz aliança para evitar impeachment e punição da ...\", 'Michelle Bolsonaro vai à cerimônia de abertura dos Jogos ...']\n",
            "brasil\n",
            "['Otaviano Costa surge em clima de romance ao lado de Flávia ...', 'Flavia Pavanelli dá dicas de estilo e revela sua tendência ...', 'Na Amazônia, Flávia Alessandra ostenta boa forma ao ...', '\"Isolada\", Flávia Arruda faz 823 reuniões em 3 meses e ...', 'Flávia Alessandra usa maiô cavado durante viagem à Amazônia', 'Aos 46 anos, Flávia Alessandra deixa virilha sarada à mostra ...', 'Ciro Nogueira aceita convite para Casa Civil com a missão de ...', 'Flávia Saolli é destaque do samba carioca | Gardênia ...', 'Flavia Viana mostra detalhes de sua cobertura dúplex em São ...', 'Flávia Alessandra de maiô: tendências de moda praia da atriz', '\"Sem comentários\", diz Mourão sobre fala de Bolsonaro', '\"Eu não sei o que levou o Bolsonaro a tomar essa decisão\"', \"Bolsonaro veta PL de remédio oral contra câncer: 'Quem ...\", \"''Quem vai pagar?'', diz Bolsonaro sobre veto a remédios ...\", '\"Bolsonaro sempre foi um membro do baixo clero do Centrão ...', 'Leonardo Sakamoto - Bolsonaro, que demitiu cunhado, diz ...', 'Bolsonaro defende veto a lei sobre facilitação do acesso a ...', 'Alexandre Garcia: Bolsonaro está reconhecendo ainda mais ...', 'Ciro no Planalto é mais um estelionato eleitoral de Bolsonaro', \"'Bolsonaro faz aliança para evitar impeachment e punição da ...\", 'Revisão de 170 mil benefícios do INSS começa em agosto', 'Fortaleza busca receita milionária e marca histórica na Copa ...', 'Jogo do Brasil de vôlei masculino terça - 28/7: onde assistir e ...', 'Olimpíadas 2021: Brasil conquista bronze na natação; veja ...', 'BAT Brasil abre inscrições para trainee com salários a partir ...', 'Meteorologia explica massa de ar polar que atingirá o Brasil', 'Olimpíadas 2021: Thaísa diverte web durante transmissão', 'Concurso Banco do Brasil: Cesgranrio encerra inscrições dia ...', 'Brasil e outros 20 países divulgam carta de repúdio à ...', 'Anvisa suspende autorização de importação da vacina Covaxin', 'Presidente assina decreto que regulamenta a Lei Rouanet', 'Governador articula com presidente melhorias em estradas ...', 'Ciro Nogueira aceita convite de presidente para chefiar Casa ...', '\"Sigo em nova missão determinada pelo presidente\", diz ...', 'Rede Gazeta de Rádios transmite entrevista com o presidente ...', 'MP ingressa com ação na Justiça contra parentes de ex ...', 'Coordenador de segurança do presidente assassinado é ...', 'Foco agora, deve ser nos números positivos, afirma ...', 'Vice-presidente do STF mantém quebra de sigilo de servidor ...', 'Presidente da Tunísia impõe recolher obrigatório e proíbe ...', 'Com Bolsonaro, Mendes evita cobranças e propõe que o ...', 'Renata Vasconcellos anuncia decisão de presidente no ...', 'Com aumento de quase 70% no público permitido, Prefeitura ...', 'O cantor Tom Cléber será atração do balneário Portal da ...', 'Governo Federal envia ao Congresso Nacional proposição ...', 'Fundão eleitoral, o combinado custa caro! | ac24horas.com ...', 'Caminhoneiros reivindicam melhorias desde a década de 70', 'Correio do Povo', 'Câmara pede urgência para retorno das aulas presenciais do ...', 'Bolsonaro faz ironia com cargo de vice de Mourão, ao ...', 'Otaviano Costa surge em clima de romance ao lado de Flávia ...', 'Flavia Pavanelli dá dicas de estilo e revela sua tendência ...', 'Na Amazônia, Flávia Alessandra ostenta boa forma ao ...', '\"Isolada\", Flávia Arruda faz 823 reuniões em 3 meses e ...', 'Flávia Alessandra usa maiô cavado durante viagem à Amazônia', 'Aos 46 anos, Flávia Alessandra deixa virilha sarada à mostra ...', 'Ciro Nogueira aceita convite para Casa Civil com a missão de ...', 'Flávia Saolli é destaque do samba carioca | Gardênia ...', 'Flavia Viana mostra detalhes de sua cobertura dúplex em São ...', 'Flávia Alessandra de maiô: tendências de moda praia da atriz', '\"Sem comentários\", diz Mourão sobre fala de Bolsonaro', \"Bolsonaro veta PL de remédio oral contra câncer: 'Quem ...\", \"''Quem vai pagar?'', diz Bolsonaro sobre veto a remédios ...\", '\"Bolsonaro sempre foi um membro do baixo clero do Centrão ...', 'Leonardo Sakamoto - Bolsonaro, que demitiu cunhado, diz ...', 'Bolsonaro defende veto a lei sobre facilitação do acesso a ...', 'Alexandre Garcia: Bolsonaro está reconhecendo ainda mais ...', 'Ciro no Planalto é mais um estelionato eleitoral de Bolsonaro', \"'Bolsonaro faz aliança para evitar impeachment e punição da ...\", 'Michelle Bolsonaro vai à cerimônia de abertura dos Jogos ...', 'Revisão de 170 mil benefícios do INSS começa em agosto', 'Fortaleza busca receita milionária e marca histórica na Copa ...', 'Jogo do Brasil de vôlei masculino terça - 28/7: onde assistir e ...', 'Olimpíadas 2021: Brasil conquista bronze na natação; veja ...', 'BAT Brasil abre inscrições para trainee com salários a partir ...', 'Meteorologia explica massa de ar polar que atingirá o Brasil', 'Olimpíadas 2021: Thaísa diverte web durante transmissão', 'Concurso Banco do Brasil: Cesgranrio encerra inscrições dia ...', 'Brasil e outros 20 países divulgam carta de repúdio à ...', 'Anvisa suspende autorização de importação da vacina Covaxin']\n",
            "presidente\n",
            "['Otaviano Costa surge em clima de romance ao lado de Flávia ...', 'Flavia Pavanelli dá dicas de estilo e revela sua tendência ...', 'Na Amazônia, Flávia Alessandra ostenta boa forma ao ...', '\"Isolada\", Flávia Arruda faz 823 reuniões em 3 meses e ...', 'Flávia Alessandra usa maiô cavado durante viagem à Amazônia', 'Aos 46 anos, Flávia Alessandra deixa virilha sarada à mostra ...', 'Ciro Nogueira aceita convite para Casa Civil com a missão de ...', 'Flávia Saolli é destaque do samba carioca | Gardênia ...', 'Flavia Viana mostra detalhes de sua cobertura dúplex em São ...', 'Flávia Alessandra de maiô: tendências de moda praia da atriz', '\"Sem comentários\", diz Mourão sobre fala de Bolsonaro', '\"Eu não sei o que levou o Bolsonaro a tomar essa decisão\"', \"Bolsonaro veta PL de remédio oral contra câncer: 'Quem ...\", \"''Quem vai pagar?'', diz Bolsonaro sobre veto a remédios ...\", '\"Bolsonaro sempre foi um membro do baixo clero do Centrão ...', 'Leonardo Sakamoto - Bolsonaro, que demitiu cunhado, diz ...', 'Bolsonaro defende veto a lei sobre facilitação do acesso a ...', 'Alexandre Garcia: Bolsonaro está reconhecendo ainda mais ...', 'Ciro no Planalto é mais um estelionato eleitoral de Bolsonaro', \"'Bolsonaro faz aliança para evitar impeachment e punição da ...\", 'Revisão de 170 mil benefícios do INSS começa em agosto', 'Fortaleza busca receita milionária e marca histórica na Copa ...', 'Jogo do Brasil de vôlei masculino terça - 28/7: onde assistir e ...', 'Olimpíadas 2021: Brasil conquista bronze na natação; veja ...', 'BAT Brasil abre inscrições para trainee com salários a partir ...', 'Meteorologia explica massa de ar polar que atingirá o Brasil', 'Olimpíadas 2021: Thaísa diverte web durante transmissão', 'Concurso Banco do Brasil: Cesgranrio encerra inscrições dia ...', 'Brasil e outros 20 países divulgam carta de repúdio à ...', 'Anvisa suspende autorização de importação da vacina Covaxin', 'Presidente assina decreto que regulamenta a Lei Rouanet', 'Governador articula com presidente melhorias em estradas ...', 'Ciro Nogueira aceita convite de presidente para chefiar Casa ...', '\"Sigo em nova missão determinada pelo presidente\", diz ...', 'Rede Gazeta de Rádios transmite entrevista com o presidente ...', 'MP ingressa com ação na Justiça contra parentes de ex ...', 'Coordenador de segurança do presidente assassinado é ...', 'Foco agora, deve ser nos números positivos, afirma ...', 'Vice-presidente do STF mantém quebra de sigilo de servidor ...', 'Presidente da Tunísia impõe recolher obrigatório e proíbe ...', 'Com Bolsonaro, Mendes evita cobranças e propõe que o ...', 'Renata Vasconcellos anuncia decisão de presidente no ...', 'Com aumento de quase 70% no público permitido, Prefeitura ...', 'O cantor Tom Cléber será atração do balneário Portal da ...', 'Governo Federal envia ao Congresso Nacional proposição ...', 'Fundão eleitoral, o combinado custa caro! | ac24horas.com ...', 'Caminhoneiros reivindicam melhorias desde a década de 70', 'Correio do Povo', 'Câmara pede urgência para retorno das aulas presenciais do ...', 'Bolsonaro faz ironia com cargo de vice de Mourão, ao ...', 'Otaviano Costa surge em clima de romance ao lado de Flávia ...', 'Flavia Pavanelli dá dicas de estilo e revela sua tendência ...', 'Na Amazônia, Flávia Alessandra ostenta boa forma ao ...', '\"Isolada\", Flávia Arruda faz 823 reuniões em 3 meses e ...', 'Flávia Alessandra usa maiô cavado durante viagem à Amazônia', 'Aos 46 anos, Flávia Alessandra deixa virilha sarada à mostra ...', 'Ciro Nogueira aceita convite para Casa Civil com a missão de ...', 'Flávia Saolli é destaque do samba carioca | Gardênia ...', 'Flavia Viana mostra detalhes de sua cobertura dúplex em São ...', 'Flávia Alessandra de maiô: tendências de moda praia da atriz', '\"Sem comentários\", diz Mourão sobre fala de Bolsonaro', \"Bolsonaro veta PL de remédio oral contra câncer: 'Quem ...\", \"''Quem vai pagar?'', diz Bolsonaro sobre veto a remédios ...\", '\"Bolsonaro sempre foi um membro do baixo clero do Centrão ...', 'Leonardo Sakamoto - Bolsonaro, que demitiu cunhado, diz ...', 'Bolsonaro defende veto a lei sobre facilitação do acesso a ...', 'Alexandre Garcia: Bolsonaro está reconhecendo ainda mais ...', 'Ciro no Planalto é mais um estelionato eleitoral de Bolsonaro', \"'Bolsonaro faz aliança para evitar impeachment e punição da ...\", 'Michelle Bolsonaro vai à cerimônia de abertura dos Jogos ...', 'Revisão de 170 mil benefícios do INSS começa em agosto', 'Fortaleza busca receita milionária e marca histórica na Copa ...', 'Jogo do Brasil de vôlei masculino terça - 28/7: onde assistir e ...', 'Olimpíadas 2021: Brasil conquista bronze na natação; veja ...', 'BAT Brasil abre inscrições para trainee com salários a partir ...', 'Meteorologia explica massa de ar polar que atingirá o Brasil', 'Olimpíadas 2021: Thaísa diverte web durante transmissão', 'Concurso Banco do Brasil: Cesgranrio encerra inscrições dia ...', 'Brasil e outros 20 países divulgam carta de repúdio à ...', 'Anvisa suspende autorização de importação da vacina Covaxin', 'Presidente assina decreto que regulamenta a Lei Rouanet', 'Governador articula com presidente melhorias em estradas ...', '\"Sigo em nova missão determinada pelo presidente\", diz ...', 'Rede Gazeta de Rádios transmite entrevista com o presidente ...', 'MP ingressa com ação na Justiça contra parentes de ex ...', 'Coordenador de segurança do presidente assassinado é ...', 'Foco agora, deve ser nos números positivos, afirma ...', 'Vice-presidente do STF mantém quebra de sigilo de servidor ...', 'Presidente da Tunísia impõe recolher obrigatório e proíbe ...', 'Presidente da Liga agradado com possibilidade de regresso ...']\n",
            "Jair messias\n",
            "['Otaviano Costa surge em clima de romance ao lado de Flávia ...', 'Flavia Pavanelli dá dicas de estilo e revela sua tendência ...', 'Na Amazônia, Flávia Alessandra ostenta boa forma ao ...', '\"Isolada\", Flávia Arruda faz 823 reuniões em 3 meses e ...', 'Flávia Alessandra usa maiô cavado durante viagem à Amazônia', 'Aos 46 anos, Flávia Alessandra deixa virilha sarada à mostra ...', 'Ciro Nogueira aceita convite para Casa Civil com a missão de ...', 'Flávia Saolli é destaque do samba carioca | Gardênia ...', 'Flavia Viana mostra detalhes de sua cobertura dúplex em São ...', 'Flávia Alessandra de maiô: tendências de moda praia da atriz', '\"Sem comentários\", diz Mourão sobre fala de Bolsonaro', '\"Eu não sei o que levou o Bolsonaro a tomar essa decisão\"', \"Bolsonaro veta PL de remédio oral contra câncer: 'Quem ...\", \"''Quem vai pagar?'', diz Bolsonaro sobre veto a remédios ...\", '\"Bolsonaro sempre foi um membro do baixo clero do Centrão ...', 'Leonardo Sakamoto - Bolsonaro, que demitiu cunhado, diz ...', 'Bolsonaro defende veto a lei sobre facilitação do acesso a ...', 'Alexandre Garcia: Bolsonaro está reconhecendo ainda mais ...', 'Ciro no Planalto é mais um estelionato eleitoral de Bolsonaro', \"'Bolsonaro faz aliança para evitar impeachment e punição da ...\", 'Revisão de 170 mil benefícios do INSS começa em agosto', 'Fortaleza busca receita milionária e marca histórica na Copa ...', 'Jogo do Brasil de vôlei masculino terça - 28/7: onde assistir e ...', 'Olimpíadas 2021: Brasil conquista bronze na natação; veja ...', 'BAT Brasil abre inscrições para trainee com salários a partir ...', 'Meteorologia explica massa de ar polar que atingirá o Brasil', 'Olimpíadas 2021: Thaísa diverte web durante transmissão', 'Concurso Banco do Brasil: Cesgranrio encerra inscrições dia ...', 'Brasil e outros 20 países divulgam carta de repúdio à ...', 'Anvisa suspende autorização de importação da vacina Covaxin', 'Presidente assina decreto que regulamenta a Lei Rouanet', 'Governador articula com presidente melhorias em estradas ...', 'Ciro Nogueira aceita convite de presidente para chefiar Casa ...', '\"Sigo em nova missão determinada pelo presidente\", diz ...', 'Rede Gazeta de Rádios transmite entrevista com o presidente ...', 'MP ingressa com ação na Justiça contra parentes de ex ...', 'Coordenador de segurança do presidente assassinado é ...', 'Foco agora, deve ser nos números positivos, afirma ...', 'Vice-presidente do STF mantém quebra de sigilo de servidor ...', 'Presidente da Tunísia impõe recolher obrigatório e proíbe ...', 'Com Bolsonaro, Mendes evita cobranças e propõe que o ...', 'Renata Vasconcellos anuncia decisão de presidente no ...', 'Com aumento de quase 70% no público permitido, Prefeitura ...', 'O cantor Tom Cléber será atração do balneário Portal da ...', 'Governo Federal envia ao Congresso Nacional proposição ...', 'Fundão eleitoral, o combinado custa caro! | ac24horas.com ...', 'Caminhoneiros reivindicam melhorias desde a década de 70', 'Correio do Povo', 'Câmara pede urgência para retorno das aulas presenciais do ...', 'Bolsonaro faz ironia com cargo de vice de Mourão, ao ...', 'Otaviano Costa surge em clima de romance ao lado de Flávia ...', 'Flavia Pavanelli dá dicas de estilo e revela sua tendência ...', 'Na Amazônia, Flávia Alessandra ostenta boa forma ao ...', '\"Isolada\", Flávia Arruda faz 823 reuniões em 3 meses e ...', 'Flávia Alessandra usa maiô cavado durante viagem à Amazônia', 'Aos 46 anos, Flávia Alessandra deixa virilha sarada à mostra ...', 'Ciro Nogueira aceita convite para Casa Civil com a missão de ...', 'Flávia Saolli é destaque do samba carioca | Gardênia ...', 'Flavia Viana mostra detalhes de sua cobertura dúplex em São ...', 'Flávia Alessandra de maiô: tendências de moda praia da atriz', '\"Sem comentários\", diz Mourão sobre fala de Bolsonaro', \"Bolsonaro veta PL de remédio oral contra câncer: 'Quem ...\", \"''Quem vai pagar?'', diz Bolsonaro sobre veto a remédios ...\", '\"Bolsonaro sempre foi um membro do baixo clero do Centrão ...', 'Leonardo Sakamoto - Bolsonaro, que demitiu cunhado, diz ...', 'Bolsonaro defende veto a lei sobre facilitação do acesso a ...', 'Alexandre Garcia: Bolsonaro está reconhecendo ainda mais ...', 'Ciro no Planalto é mais um estelionato eleitoral de Bolsonaro', \"'Bolsonaro faz aliança para evitar impeachment e punição da ...\", 'Michelle Bolsonaro vai à cerimônia de abertura dos Jogos ...', 'Revisão de 170 mil benefícios do INSS começa em agosto', 'Fortaleza busca receita milionária e marca histórica na Copa ...', 'Jogo do Brasil de vôlei masculino terça - 28/7: onde assistir e ...', 'Olimpíadas 2021: Brasil conquista bronze na natação; veja ...', 'BAT Brasil abre inscrições para trainee com salários a partir ...', 'Meteorologia explica massa de ar polar que atingirá o Brasil', 'Olimpíadas 2021: Thaísa diverte web durante transmissão', 'Concurso Banco do Brasil: Cesgranrio encerra inscrições dia ...', 'Brasil e outros 20 países divulgam carta de repúdio à ...', 'Anvisa suspende autorização de importação da vacina Covaxin', 'Presidente assina decreto que regulamenta a Lei Rouanet', 'Governador articula com presidente melhorias em estradas ...', '\"Sigo em nova missão determinada pelo presidente\", diz ...', 'Rede Gazeta de Rádios transmite entrevista com o presidente ...', 'MP ingressa com ação na Justiça contra parentes de ex ...', 'Coordenador de segurança do presidente assassinado é ...', 'Foco agora, deve ser nos números positivos, afirma ...', 'Vice-presidente do STF mantém quebra de sigilo de servidor ...', 'Presidente da Tunísia impõe recolher obrigatório e proíbe ...', 'Presidente da Liga agradado com possibilidade de regresso ...', 'Renata Vasconcellos anuncia decisão de presidente no ...', 'Com aumento de quase 70% no público permitido, Prefeitura ...', 'O cantor Tom Cléber será atração do balneário Portal da ...', 'Governo Federal envia ao Congresso Nacional proposição ...', 'Fundão eleitoral, o combinado custa caro! | ac24horas.com ...', 'Caminhoneiros reivindicam melhorias desde a década de 70', 'Correio do Povo', 'Câmara pede urgência para retorno das aulas presenciais do ...', 'Bolsonaro faz ironia com cargo de vice de Mourão, ao ...', 'Movimentação Política | Irma ganha adesões de Mesquita e ...']\n"
          ],
          "name": "stdout"
        }
      ]
    },
    {
      "cell_type": "code",
      "metadata": {
        "id": "ZuaamZCbPIY8",
        "colab": {
          "base_uri": "https://localhost:8080/"
        },
        "outputId": "6eb672ea-8494-40f7-c2e5-48834550d799"
      },
      "source": [
        "googlenews.search(\"bolsonaro\")\n",
        "googlenews.search(\"Jair messias\")\n",
        "googlenews.search(\"Presidente\")\n",
        "googlenews.search(\"Bolsonaro\")\n",
        "#news = googlenews.get_news('APPLE')\n",
        "#googlenews.results()\n",
        "googlenews.get_texts()"
      ],
      "execution_count": null,
      "outputs": [
        {
          "output_type": "execute_result",
          "data": {
            "text/plain": [
              "['Flávia Saolli é destaque do samba carioca | Gardênia ...',\n",
              " 'Flavia Viana mostra detalhes de sua cobertura dúplex em São ...',\n",
              " 'Flávia Alessandra de maiô: tendências de moda praia da atriz',\n",
              " 'Flávia Saraiva: entenda como é possível a ginasta se ...',\n",
              " 'Esposa de Luciano leva mão ao peito após marido se assumir ...',\n",
              " 'Flávia Soares | Observatório G',\n",
              " 'Flávia Alessandra posa com maiô cavadíssimo de oncinha no ...',\n",
              " 'Zélia Duncan vai se casar com ex de Jô Soares',\n",
              " 'Flávia Alessandra senta gostoso, empina bumbum e foto sem ...',\n",
              " 'Flávia Alessandra se diverte em praia no Nordeste: \"Piloto de ...',\n",
              " 'Ciro Nogueira aceita convite de Bolsonaro para chefiar Casa ...',\n",
              " 'Reverendo tinha apoio de aliados de Bolsonaro para comprar ...',\n",
              " \"'Eu não posso vetar', diz Bolsonaro, sobre fundão\",\n",
              " \"Mourão evita responder crítica feita por Bolsonaro: 'Sem ...\",\n",
              " \"Lula critica Bolsonaro; ministro rebate: 'Seu Brasil era o da ...\",\n",
              " 'Análise: Thaís Oyama - Como o jeitoso Ciro Nogueira ...',\n",
              " 'Bolsonaro é refém do Centrão, afirma Lula',\n",
              " 'Reportagem: Chico Alves - Depois de mensagens críticas ...',\n",
              " 'Antes de Bolsonaro, outros políticos também provocavam ...',\n",
              " 'Ciro Nogueira diz que aceitou convite de Bolsonaro para ...',\n",
              " 'Futebol feminino: Brasil vence a Zâmbia e avança em ...',\n",
              " 'Quadrilha que contrabandeou 1 tonelada de ouro do Brasil ...',\n",
              " 'Vôlei feminino: Brasil consegue virada e vence a República ...',\n",
              " 'Olimpíadas: Rosamaria destaca \"resiliência\" do Brasil no vôlei',\n",
              " 'Resultados do Brasil na Olimpíada dia 4: ouro, bronze e Marta ...',\n",
              " 'Meteorologia explica massa de ar polar que atingirá o Brasil',\n",
              " 'Brasil sofre, mas vence as dominicanas e segue 100% no ...',\n",
              " 'Holanda goleia China, avança em primeiro lugar no grupo do ...',\n",
              " 'Gattaz curte os 40 anos após vitória do Brasil: \"Não imaginava ...',\n",
              " 'Brasil vence Zâmbia no futebol feminino nas Olimpíadas',\n",
              " 'Moradores de Presidente Prudente têm 262 vagas de ...',\n",
              " 'Presidente pode vetar fundão e empurrar definição de valor ...',\n",
              " 'Após criticar Bolsonaro, Queiroz volta a elogiar o presidente ...',\n",
              " 'Em tom de campanha, Lula mira em Paulo Guedes e Arthur ...',\n",
              " 'Ciro Nogueira aceita convite para Casa Civil com a missão de ...',\n",
              " 'Vice-presidente do STF mantém quebra de sigilo de servidor ...',\n",
              " \"Bolsonaro é o presidente 'mais incapaz da história do mundo ...\",\n",
              " 'Presidente do Flamengo assume presidência temporária da ...',\n",
              " 'Rui Costa dá a primeira entrevista como presidente do ...',\n",
              " 'Foragido da Justiça por homicídio cometido na Bahia em ...',\n",
              " 'Flávia Alessandra posta cliques ao lado da família em viagem ...',\n",
              " 'Flávia Saolli é destaque do samba carioca | Gardênia ...',\n",
              " 'Flavia Viana mostra detalhes de sua cobertura dúplex em São ...',\n",
              " 'Flávia Alessandra de maiô: tendências de moda praia da atriz',\n",
              " 'Flávia Saraiva: entenda como é possível a ginasta se ...',\n",
              " 'Esposa de Luciano leva mão ao peito após marido se assumir ...',\n",
              " 'Flávia Soares | Observatório G',\n",
              " 'Flávia Alessandra posa com maiô cavadíssimo de oncinha no ...',\n",
              " 'Zélia Duncan vai se casar com ex de Jô Soares',\n",
              " 'Flávia Alessandra senta gostoso, empina bumbum e foto sem ...',\n",
              " 'Ciro Nogueira aceita convite de Bolsonaro para chefiar Casa ...',\n",
              " 'Reverendo tinha apoio de aliados de Bolsonaro para comprar ...',\n",
              " \"'Eu não posso vetar', diz Bolsonaro, sobre fundão\",\n",
              " \"Mourão evita responder crítica feita por Bolsonaro: 'Sem ...\",\n",
              " \"Lula critica Bolsonaro; ministro rebate: 'Seu Brasil era o da ...\",\n",
              " 'Análise: Thaís Oyama - Como o jeitoso Ciro Nogueira ...',\n",
              " \"João Rodrigues se reúne com Bolsonaro: 'temos boas ...\",\n",
              " 'Bolsonaro é refém do Centrão, afirma Lula',\n",
              " 'Reportagem: Chico Alves - Depois de mensagens críticas ...',\n",
              " 'Antes de Bolsonaro, outros políticos também provocavam ...',\n",
              " 'Futebol feminino: Brasil vence a Zâmbia e avança em ...',\n",
              " 'Quadrilha que contrabandeou 1 tonelada de ouro do Brasil ...',\n",
              " 'Vôlei feminino: Brasil consegue virada e vence a República ...',\n",
              " 'Olimpíadas: Rosamaria destaca \"resiliência\" do Brasil no vôlei',\n",
              " 'Resultados do Brasil na Olimpíada dia 4: ouro, bronze e Marta ...',\n",
              " 'Meteorologia explica massa de ar polar que atingirá o Brasil',\n",
              " 'Brasil sofre, mas vence as dominicanas e segue 100% no ...',\n",
              " 'Holanda goleia China, avança em primeiro lugar no grupo do ...',\n",
              " 'Gattaz curte os 40 anos após vitória do Brasil: \"Não imaginava ...',\n",
              " 'Brasil vence Zâmbia no futebol feminino nas Olimpíadas',\n",
              " 'Moradores de Presidente Prudente têm 262 vagas de ...',\n",
              " 'Presidente pode vetar fundão e empurrar definição de valor ...',\n",
              " 'Após criticar Bolsonaro, Queiroz volta a elogiar o presidente ...',\n",
              " 'Em tom de campanha, Lula mira em Paulo Guedes e Arthur ...',\n",
              " 'Ciro Nogueira aceita convite para Casa Civil com a missão de ...',\n",
              " 'Vice-presidente do STF mantém quebra de sigilo de servidor ...',\n",
              " \"Bolsonaro é o presidente 'mais incapaz da história do mundo ...\",\n",
              " 'Presidente do Flamengo assume presidência temporária da ...',\n",
              " 'Rui Costa dá a primeira entrevista como presidente do ...',\n",
              " 'Foragido da Justiça por homicídio cometido na Bahia em ...',\n",
              " 'Fundão eleitoral, o combinado custa caro! | ac24horas.com ...',\n",
              " 'Caminhoneiros reivindicam melhorias desde a década de 70',\n",
              " 'Correio do Povo',\n",
              " 'Câmara pede urgência para retorno das aulas presenciais do ...',\n",
              " 'Bolsonaro faz ironia com cargo de vice de Mourão, ao ...',\n",
              " 'Movimentação Política | Irma ganha adesões de Mesquita e ...',\n",
              " 'Site faz perfil de Beatrix von Storch, deputada alemã que se ...',\n",
              " 'Eleições 2022 | “nova presidente” do Democratas, Irma ...',\n",
              " \"Bolsonaro diz que Mourão é igual cunhado: 'tem que aturar'\",\n",
              " 'Vítima de fake news, Daniela Lima desabafa após ser ...',\n",
              " 'Ciro Nogueira aceita convite de Bolsonaro para chefiar Casa ...',\n",
              " 'Reverendo tinha apoio de aliados de Bolsonaro para comprar ...',\n",
              " \"'Eu não posso vetar', diz Bolsonaro, sobre fundão\",\n",
              " \"Mourão evita responder crítica feita por Bolsonaro: 'Sem ...\",\n",
              " \"Lula critica Bolsonaro; ministro rebate: 'Seu Brasil era o da ...\",\n",
              " 'Análise: Thaís Oyama - Como o jeitoso Ciro Nogueira ...',\n",
              " 'Bolsonaro é refém do Centrão, afirma Lula',\n",
              " 'Reportagem: Chico Alves - Depois de mensagens críticas ...',\n",
              " 'Antes de Bolsonaro, outros políticos também provocavam ...',\n",
              " 'Ciro Nogueira diz que aceitou convite de Bolsonaro para ...',\n",
              " 'Fundão eleitoral, o combinado custa caro! | ac24horas.com ...',\n",
              " 'Caminhoneiros reivindicam melhorias desde a década de 70',\n",
              " 'Correio do Povo',\n",
              " 'Câmara pede urgência para retorno das aulas presenciais do ...',\n",
              " 'Bolsonaro faz ironia com cargo de vice de Mourão, ao ...',\n",
              " 'Movimentação Política | Irma ganha adesões de Mesquita e ...',\n",
              " 'Site faz perfil de Beatrix von Storch, deputada alemã que se ...',\n",
              " 'Eleições 2022 | “nova presidente” do Democratas, Irma ...',\n",
              " \"Bolsonaro diz que Mourão é igual cunhado: 'tem que aturar'\",\n",
              " 'Vítima de fake news, Daniela Lima desabafa após ser ...',\n",
              " 'Moradores de Presidente Prudente têm 262 vagas de ...',\n",
              " 'Presidente pode vetar fundão e empurrar definição de valor ...',\n",
              " 'Após criticar Bolsonaro, Queiroz volta a elogiar o presidente ...',\n",
              " 'Em tom de campanha, Lula mira em Paulo Guedes e Arthur ...',\n",
              " 'Ciro Nogueira aceita convite para Casa Civil com a missão de ...',\n",
              " 'Vice-presidente do STF mantém quebra de sigilo de servidor ...',\n",
              " \"Bolsonaro é o presidente 'mais incapaz da história do mundo ...\",\n",
              " 'Presidente do Flamengo assume presidência temporária da ...',\n",
              " 'Rui Costa dá a primeira entrevista como presidente do ...',\n",
              " 'Foragido da Justiça por homicídio cometido na Bahia em ...',\n",
              " 'Ciro Nogueira aceita convite de Bolsonaro para chefiar Casa ...',\n",
              " 'Reverendo tinha apoio de aliados de Bolsonaro para comprar ...',\n",
              " \"'Eu não posso vetar', diz Bolsonaro, sobre fundão\",\n",
              " \"Mourão evita responder crítica feita por Bolsonaro: 'Sem ...\",\n",
              " \"Lula critica Bolsonaro; ministro rebate: 'Seu Brasil era o da ...\",\n",
              " 'Análise: Thaís Oyama - Como o jeitoso Ciro Nogueira ...',\n",
              " 'Bolsonaro é refém do Centrão, afirma Lula',\n",
              " 'Reportagem: Chico Alves - Depois de mensagens críticas ...',\n",
              " 'Antes de Bolsonaro, outros políticos também provocavam ...',\n",
              " 'Ciro Nogueira diz que aceitou convite de Bolsonaro para ...']"
            ]
          },
          "metadata": {
            "tags": []
          },
          "execution_count": 13
        }
      ]
    }
  ]
}