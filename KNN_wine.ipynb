{
  "nbformat": 4,
  "nbformat_minor": 0,
  "metadata": {
    "colab": {
      "name": "KNN_wine.ipynb",
      "provenance": [],
      "authorship_tag": "ABX9TyMG3+Dah3SzObWz020TCI/+",
      "include_colab_link": true
    },
    "kernelspec": {
      "name": "python3",
      "display_name": "Python 3"
    },
    "language_info": {
      "name": "python"
    }
  },
  "cells": [
    {
      "cell_type": "markdown",
      "metadata": {
        "id": "view-in-github",
        "colab_type": "text"
      },
      "source": [
        "<a href=\"https://colab.research.google.com/github/flaviagaia/flaviagaia/blob/main/KNN_wine.ipynb\" target=\"_parent\"><img src=\"https://colab.research.google.com/assets/colab-badge.svg\" alt=\"Open In Colab\"/></a>"
      ]
    },
    {
      "cell_type": "markdown",
      "metadata": {
        "id": "jQ9_q4Zobch9"
      },
      "source": [
        "# **Algoritmo KNN em Python**\n",
        "\n",
        "https://minerandodados.com.br/machine-learning-na-pratica-knn-python/\n",
        "https://www.datacamp.com/community/tutorials/k-nearest-neighbor-classification-scikit-learn?utm_source=adwords_ppc&utm_campaignid=1455363063&utm_adgroupid=65083631748&utm_device=c&utm_keyword=&utm_matchtype=b&utm_network=g&utm_adpostion=&utm_creative=278443377086&utm_targetid=dsa-429603003980&utm_loc_interest_ms=&utm_loc_physical_ms=1001541&gclid=Cj0KCQjwwNWKBhDAARIsAJ8HkhfMQFUuKkYdS0uBkQnCpx6a7EJHH-NHQyFg1lSpOhWuFxWak_uv30EaAswMEALw_wcB"
      ]
    },
    {
      "cell_type": "markdown",
      "metadata": {
        "id": "SV6YBfpBb3hi"
      },
      "source": [
        "O KNN (K-Nearest Neighbor) é um algoritmo que pode ser usado tanto para classificação como regressão. Seu objetivo é determinar a qual grupo uma determinada amostra vai pertencer com base nas amostras vizinhas.\n",
        "\n",
        "![image.png](data:image/png;base64,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)"
      ]
    },
    {
      "cell_type": "markdown",
      "metadata": {
        "id": "BC8CouLWcFnk"
      },
      "source": [
        "**Aplicando o KNN na Base de Dados Wine (amostras de vinho)**\n",
        "\n",
        "Base de dados:\n",
        "\n",
        "https://archive.ics.uci.edu/ml/datasets/wine – UCI machine learning repository.\n",
        "\n",
        "https://scikit-learn.org/stable/modules/generated/sklearn.datasets.load_wine.html#sklearn.datasets.load_wine – módulo do Sklearn que possui alguns conjuntos de dados.\n",
        "\n",
        "Nesse conjunto de dados, temos os resultados de uma análise química de vinhos cultivados na região da Itália, a tarefa é classificar o vinho em três tipos distintos (0,1 ou 2)."
      ]
    },
    {
      "cell_type": "code",
      "metadata": {
        "id": "C25BdumhbTo7"
      },
      "source": [
        "# Bibliotecas\n",
        "from sklearn import datasets\n",
        "import pandas as pd\n",
        "import matplotlib.pyplot as plt"
      ],
      "execution_count": null,
      "outputs": []
    },
    {
      "cell_type": "code",
      "metadata": {
        "id": "x_ktyhHFcRFt"
      },
      "source": [
        "# Base de dados\n",
        "wine = datasets.load_wine()"
      ],
      "execution_count": null,
      "outputs": []
    },
    {
      "cell_type": "code",
      "metadata": {
        "id": "o1i5WjWscZiN"
      },
      "source": [
        "# Criando o DataFrame\n",
        "df_wine = pd.DataFrame(data=wine.data,columns=wine.feature_names)\n",
        "# Criando a coluna com os valores da variável target.\n",
        "df_wine['class'] = wine.target"
      ],
      "execution_count": null,
      "outputs": []
    },
    {
      "cell_type": "code",
      "metadata": {
        "colab": {
          "base_uri": "https://localhost:8080/",
          "height": 487
        },
        "id": "_p84jLe3cg_u",
        "outputId": "61a472a7-3fc8-4876-d983-e848aff21c02"
      },
      "source": [
        "# Vizualização com transposição\n",
        "df_wine.head().T"
      ],
      "execution_count": null,
      "outputs": [
        {
          "output_type": "execute_result",
          "data": {
            "text/html": [
              "<div>\n",
              "<style scoped>\n",
              "    .dataframe tbody tr th:only-of-type {\n",
              "        vertical-align: middle;\n",
              "    }\n",
              "\n",
              "    .dataframe tbody tr th {\n",
              "        vertical-align: top;\n",
              "    }\n",
              "\n",
              "    .dataframe thead th {\n",
              "        text-align: right;\n",
              "    }\n",
              "</style>\n",
              "<table border=\"1\" class=\"dataframe\">\n",
              "  <thead>\n",
              "    <tr style=\"text-align: right;\">\n",
              "      <th></th>\n",
              "      <th>0</th>\n",
              "      <th>1</th>\n",
              "      <th>2</th>\n",
              "      <th>3</th>\n",
              "      <th>4</th>\n",
              "    </tr>\n",
              "  </thead>\n",
              "  <tbody>\n",
              "    <tr>\n",
              "      <th>alcohol</th>\n",
              "      <td>14.23</td>\n",
              "      <td>13.20</td>\n",
              "      <td>13.16</td>\n",
              "      <td>14.37</td>\n",
              "      <td>13.24</td>\n",
              "    </tr>\n",
              "    <tr>\n",
              "      <th>malic_acid</th>\n",
              "      <td>1.71</td>\n",
              "      <td>1.78</td>\n",
              "      <td>2.36</td>\n",
              "      <td>1.95</td>\n",
              "      <td>2.59</td>\n",
              "    </tr>\n",
              "    <tr>\n",
              "      <th>ash</th>\n",
              "      <td>2.43</td>\n",
              "      <td>2.14</td>\n",
              "      <td>2.67</td>\n",
              "      <td>2.50</td>\n",
              "      <td>2.87</td>\n",
              "    </tr>\n",
              "    <tr>\n",
              "      <th>alcalinity_of_ash</th>\n",
              "      <td>15.60</td>\n",
              "      <td>11.20</td>\n",
              "      <td>18.60</td>\n",
              "      <td>16.80</td>\n",
              "      <td>21.00</td>\n",
              "    </tr>\n",
              "    <tr>\n",
              "      <th>magnesium</th>\n",
              "      <td>127.00</td>\n",
              "      <td>100.00</td>\n",
              "      <td>101.00</td>\n",
              "      <td>113.00</td>\n",
              "      <td>118.00</td>\n",
              "    </tr>\n",
              "    <tr>\n",
              "      <th>total_phenols</th>\n",
              "      <td>2.80</td>\n",
              "      <td>2.65</td>\n",
              "      <td>2.80</td>\n",
              "      <td>3.85</td>\n",
              "      <td>2.80</td>\n",
              "    </tr>\n",
              "    <tr>\n",
              "      <th>flavanoids</th>\n",
              "      <td>3.06</td>\n",
              "      <td>2.76</td>\n",
              "      <td>3.24</td>\n",
              "      <td>3.49</td>\n",
              "      <td>2.69</td>\n",
              "    </tr>\n",
              "    <tr>\n",
              "      <th>nonflavanoid_phenols</th>\n",
              "      <td>0.28</td>\n",
              "      <td>0.26</td>\n",
              "      <td>0.30</td>\n",
              "      <td>0.24</td>\n",
              "      <td>0.39</td>\n",
              "    </tr>\n",
              "    <tr>\n",
              "      <th>proanthocyanins</th>\n",
              "      <td>2.29</td>\n",
              "      <td>1.28</td>\n",
              "      <td>2.81</td>\n",
              "      <td>2.18</td>\n",
              "      <td>1.82</td>\n",
              "    </tr>\n",
              "    <tr>\n",
              "      <th>color_intensity</th>\n",
              "      <td>5.64</td>\n",
              "      <td>4.38</td>\n",
              "      <td>5.68</td>\n",
              "      <td>7.80</td>\n",
              "      <td>4.32</td>\n",
              "    </tr>\n",
              "    <tr>\n",
              "      <th>hue</th>\n",
              "      <td>1.04</td>\n",
              "      <td>1.05</td>\n",
              "      <td>1.03</td>\n",
              "      <td>0.86</td>\n",
              "      <td>1.04</td>\n",
              "    </tr>\n",
              "    <tr>\n",
              "      <th>od280/od315_of_diluted_wines</th>\n",
              "      <td>3.92</td>\n",
              "      <td>3.40</td>\n",
              "      <td>3.17</td>\n",
              "      <td>3.45</td>\n",
              "      <td>2.93</td>\n",
              "    </tr>\n",
              "    <tr>\n",
              "      <th>proline</th>\n",
              "      <td>1065.00</td>\n",
              "      <td>1050.00</td>\n",
              "      <td>1185.00</td>\n",
              "      <td>1480.00</td>\n",
              "      <td>735.00</td>\n",
              "    </tr>\n",
              "    <tr>\n",
              "      <th>class</th>\n",
              "      <td>0.00</td>\n",
              "      <td>0.00</td>\n",
              "      <td>0.00</td>\n",
              "      <td>0.00</td>\n",
              "      <td>0.00</td>\n",
              "    </tr>\n",
              "  </tbody>\n",
              "</table>\n",
              "</div>"
            ],
            "text/plain": [
              "                                    0        1        2        3       4\n",
              "alcohol                         14.23    13.20    13.16    14.37   13.24\n",
              "malic_acid                       1.71     1.78     2.36     1.95    2.59\n",
              "ash                              2.43     2.14     2.67     2.50    2.87\n",
              "alcalinity_of_ash               15.60    11.20    18.60    16.80   21.00\n",
              "magnesium                      127.00   100.00   101.00   113.00  118.00\n",
              "total_phenols                    2.80     2.65     2.80     3.85    2.80\n",
              "flavanoids                       3.06     2.76     3.24     3.49    2.69\n",
              "nonflavanoid_phenols             0.28     0.26     0.30     0.24    0.39\n",
              "proanthocyanins                  2.29     1.28     2.81     2.18    1.82\n",
              "color_intensity                  5.64     4.38     5.68     7.80    4.32\n",
              "hue                              1.04     1.05     1.03     0.86    1.04\n",
              "od280/od315_of_diluted_wines     3.92     3.40     3.17     3.45    2.93\n",
              "proline                       1065.00  1050.00  1185.00  1480.00  735.00\n",
              "class                            0.00     0.00     0.00     0.00    0.00"
            ]
          },
          "metadata": {},
          "execution_count": 8
        }
      ]
    },
    {
      "cell_type": "code",
      "metadata": {
        "colab": {
          "base_uri": "https://localhost:8080/"
        },
        "id": "fi3B9uXackMN",
        "outputId": "c54dfe62-1d3d-4834-c867-898fbadbd121"
      },
      "source": [
        "# Informações\n",
        "df_wine.info()"
      ],
      "execution_count": null,
      "outputs": [
        {
          "output_type": "stream",
          "name": "stdout",
          "text": [
            "<class 'pandas.core.frame.DataFrame'>\n",
            "RangeIndex: 178 entries, 0 to 177\n",
            "Data columns (total 14 columns):\n",
            " #   Column                        Non-Null Count  Dtype  \n",
            "---  ------                        --------------  -----  \n",
            " 0   alcohol                       178 non-null    float64\n",
            " 1   malic_acid                    178 non-null    float64\n",
            " 2   ash                           178 non-null    float64\n",
            " 3   alcalinity_of_ash             178 non-null    float64\n",
            " 4   magnesium                     178 non-null    float64\n",
            " 5   total_phenols                 178 non-null    float64\n",
            " 6   flavanoids                    178 non-null    float64\n",
            " 7   nonflavanoid_phenols          178 non-null    float64\n",
            " 8   proanthocyanins               178 non-null    float64\n",
            " 9   color_intensity               178 non-null    float64\n",
            " 10  hue                           178 non-null    float64\n",
            " 11  od280/od315_of_diluted_wines  178 non-null    float64\n",
            " 12  proline                       178 non-null    float64\n",
            " 13  class                         178 non-null    int64  \n",
            "dtypes: float64(13), int64(1)\n",
            "memory usage: 19.6 KB\n"
          ]
        }
      ]
    },
    {
      "cell_type": "code",
      "metadata": {
        "colab": {
          "base_uri": "https://localhost:8080/"
        },
        "id": "DZhzslsic3YF",
        "outputId": "3a892540-3833-43ec-a3f5-7deecec5edd7"
      },
      "source": [
        "# Quantidade de amostras por classe:\n",
        "df_wine['class'].value_counts()"
      ],
      "execution_count": null,
      "outputs": [
        {
          "output_type": "execute_result",
          "data": {
            "text/plain": [
              "1    71\n",
              "0    59\n",
              "2    48\n",
              "Name: class, dtype: int64"
            ]
          },
          "metadata": {},
          "execution_count": 11
        }
      ]
    },
    {
      "cell_type": "code",
      "metadata": {
        "id": "jEZ1d8V4c8yF"
      },
      "source": [
        "# Separando os dados de treino e teste, 30% para teste e 70% para treino do modelo.\n",
        "from sklearn.model_selection import train_test_split\n",
        "X_train, X_test, y_train, y_test = train_test_split(df_wine.drop('class',axis=1), df_wine['class'], test_size=0.3)"
      ],
      "execution_count": null,
      "outputs": []
    },
    {
      "cell_type": "code",
      "metadata": {
        "id": "yMjwCes8dF_F"
      },
      "source": [
        "# Instanciando o Classificador\n",
        "from sklearn.neighbors import KNeighborsClassifier\n",
        "# Definindo o número de vizinhos\n",
        "knn = KNeighborsClassifier(n_neighbors=3)"
      ],
      "execution_count": null,
      "outputs": []
    },
    {
      "cell_type": "code",
      "metadata": {
        "colab": {
          "base_uri": "https://localhost:8080/"
        },
        "id": "kJGWlqRNdWeO",
        "outputId": "3aa10167-a4c8-4ca1-b83a-38b69b40ca39"
      },
      "source": [
        "# Aplicar nossos dados de treino ao algoritmo KNN\n",
        "knn.fit(X_train, y_train)"
      ],
      "execution_count": null,
      "outputs": [
        {
          "output_type": "execute_result",
          "data": {
            "text/plain": [
              "KNeighborsClassifier(algorithm='auto', leaf_size=30, metric='minkowski',\n",
              "                     metric_params=None, n_jobs=None, n_neighbors=3, p=2,\n",
              "                     weights='uniform')"
            ]
          },
          "metadata": {},
          "execution_count": 16
        }
      ]
    },
    {
      "cell_type": "code",
      "metadata": {
        "colab": {
          "base_uri": "https://localhost:8080/"
        },
        "id": "lyFf0rnLdc-2",
        "outputId": "3b096edf-b1f6-4f0f-8d0d-e44f4f3b2a2f"
      },
      "source": [
        "# Executando KNN com a base de testes, predict() para prever os valores para os dados de teste\n",
        "resultado = knn.predict(X_test)\n",
        "resultado"
      ],
      "execution_count": null,
      "outputs": [
        {
          "output_type": "execute_result",
          "data": {
            "text/plain": [
              "array([1, 1, 0, 0, 1, 0, 1, 0, 2, 1, 1, 2, 1, 0, 0, 2, 2, 0, 2, 1, 1, 0,\n",
              "       1, 1, 0, 1, 0, 2, 0, 0, 0, 1, 1, 2, 1, 2, 1, 2, 1, 2, 1, 1, 0, 1,\n",
              "       2, 1, 0, 1, 1, 1, 1, 1, 1, 1])"
            ]
          },
          "metadata": {},
          "execution_count": 18
        }
      ]
    },
    {
      "cell_type": "markdown",
      "metadata": {
        "id": "W_jiigbgdsLH"
      },
      "source": [
        "# **Analisando e validando os resultados obtidos**"
      ]
    },
    {
      "cell_type": "code",
      "metadata": {
        "colab": {
          "base_uri": "https://localhost:8080/"
        },
        "id": "mkPIE8AadrdX",
        "outputId": "42ed4a70-8437-43f0-d741-97a8b2027a0c"
      },
      "source": [
        "# Matriz de Confusão: tabela que mostra as frequências de classificação para cada classe do modelo\n",
        "print(pd.crosstab(y_test,resultado, rownames=['Real'], colnames=['Predito'], margins=True))"
      ],
      "execution_count": null,
      "outputs": [
        {
          "output_type": "stream",
          "name": "stdout",
          "text": [
            "Predito   0   1   2  All\n",
            "Real                    \n",
            "0        12   2   0   14\n",
            "1         2  19   3   24\n",
            "2         1   7   8   16\n",
            "All      15  28  11   54\n"
          ]
        }
      ]
    },
    {
      "cell_type": "markdown",
      "metadata": {
        "id": "qKHA630keSqH"
      },
      "source": [
        "Dos 15 valores que o modelo previu como sendo da classe 0, 14 elementos foram classificados corretamente e 1 foi classificado como sendo da classe 2, ou seja, nesse caso o modelo errou."
      ]
    },
    {
      "cell_type": "code",
      "metadata": {
        "colab": {
          "base_uri": "https://localhost:8080/"
        },
        "id": "WcRBuqqbdkW1",
        "outputId": "cd70a264-2c87-49d0-cbfc-4488e5825523"
      },
      "source": [
        "# Métricas de classificação\n",
        "from sklearn import metrics\n",
        "print(metrics.classification_report(y_test,resultado,target_names=wine.target_names))"
      ],
      "execution_count": null,
      "outputs": [
        {
          "output_type": "stream",
          "name": "stdout",
          "text": [
            "              precision    recall  f1-score   support\n",
            "\n",
            "     class_0       0.80      0.86      0.83        14\n",
            "     class_1       0.68      0.79      0.73        24\n",
            "     class_2       0.73      0.50      0.59        16\n",
            "\n",
            "    accuracy                           0.72        54\n",
            "   macro avg       0.74      0.72      0.72        54\n",
            "weighted avg       0.72      0.72      0.71        54\n",
            "\n"
          ]
        }
      ]
    },
    {
      "cell_type": "markdown",
      "metadata": {
        "id": "F9Fdgrh3g1Dr"
      },
      "source": [
        "Observando a tabela acima podemos tirar algumas informações úteis, como a accuracy que diz quanto o modelo acertou das previsões possíveis."
      ]
    },
    {
      "cell_type": "markdown",
      "metadata": {
        "id": "HdsqLuAkg3fa"
      },
      "source": [
        "# **Otimizando o parâmetro k utilizando o GridSearch:**"
      ]
    },
    {
      "cell_type": "code",
      "metadata": {
        "id": "dTidxm0Ygu3D"
      },
      "source": [
        "from sklearn.model_selection import GridSearchCV"
      ],
      "execution_count": null,
      "outputs": []
    },
    {
      "cell_type": "markdown",
      "metadata": {
        "id": "r9PT54Mrg8fc"
      },
      "source": [
        "Lista com valores de 1 a 30 para testar qual será o melhor valor para o parâmetro K."
      ]
    },
    {
      "cell_type": "code",
      "metadata": {
        "id": "WXvR_fOlg6Qa"
      },
      "source": [
        "# Definindo a lista de valores.\n",
        "k_list = list(range(1,31))"
      ],
      "execution_count": null,
      "outputs": []
    },
    {
      "cell_type": "code",
      "metadata": {
        "id": "5j_W0iD_hA87"
      },
      "source": [
        "# Colocando os valores em um dicionário\n",
        "parametros = dict(n_neighbors=k_list)"
      ],
      "execution_count": null,
      "outputs": []
    },
    {
      "cell_type": "code",
      "metadata": {
        "id": "ikl-ZiqYhFDL"
      },
      "source": [
        "# Instanciando o objeto GridSearch\n",
        "grid = GridSearchCV(knn, parametros, cv=5, scoring='accuracy')"
      ],
      "execution_count": null,
      "outputs": []
    },
    {
      "cell_type": "markdown",
      "metadata": {
        "id": "Op2OoKFBhPyp"
      },
      "source": [
        "No código acima passa o modelo, a lista com os valores para o número de vizinhos, cv (número de dobras para a validação cruzada) e o scoring que é uma das métricas de avaliação dos modelos de classificação."
      ]
    },
    {
      "cell_type": "code",
      "metadata": {
        "colab": {
          "base_uri": "https://localhost:8080/"
        },
        "id": "-ecZlCCIhKyk",
        "outputId": "ad06ede5-29b1-43f6-a5b9-7912776972d3"
      },
      "source": [
        "# Treinando o objeto:\n",
        "grid.fit(df_wine.drop('class',axis=1),df_wine['class'])"
      ],
      "execution_count": null,
      "outputs": [
        {
          "output_type": "execute_result",
          "data": {
            "text/plain": [
              "GridSearchCV(cv=5, error_score=nan,\n",
              "             estimator=KNeighborsClassifier(algorithm='auto', leaf_size=30,\n",
              "                                            metric='minkowski',\n",
              "                                            metric_params=None, n_jobs=None,\n",
              "                                            n_neighbors=3, p=2,\n",
              "                                            weights='uniform'),\n",
              "             iid='deprecated', n_jobs=None,\n",
              "             param_grid={'n_neighbors': [1, 2, 3, 4, 5, 6, 7, 8, 9, 10, 11, 12,\n",
              "                                         13, 14, 15, 16, 17, 18, 19, 20, 21, 22,\n",
              "                                         23, 24, 25, 26, 27, 28, 29, 30]},\n",
              "             pre_dispatch='2*n_jobs', refit=True, return_train_score=False,\n",
              "             scoring='accuracy', verbose=0)"
            ]
          },
          "metadata": {},
          "execution_count": 26
        }
      ]
    },
    {
      "cell_type": "code",
      "metadata": {
        "colab": {
          "base_uri": "https://localhost:8080/"
        },
        "id": "x9NPb76YhZ3M",
        "outputId": "e7bca7cc-7692-4385-a6a9-18da72f7db06"
      },
      "source": [
        "# Qual é o melhor valor para o parâmetro K?\n",
        "print(\"Melhores parametros {} com o valor de acurácia {} \".format(grid.best_params_,grid.best_score_))"
      ],
      "execution_count": null,
      "outputs": [
        {
          "output_type": "stream",
          "name": "stdout",
          "text": [
            "Melhores parametros {'n_neighbors': 1} com o valor de acurácia 0.7250793650793651 \n"
          ]
        }
      ]
    },
    {
      "cell_type": "code",
      "metadata": {
        "colab": {
          "base_uri": "https://localhost:8080/",
          "height": 227
        },
        "id": "hkYuS0VhhfXj",
        "outputId": "f3bffcb3-2c4b-4e12-ffd4-5ac1e1595913"
      },
      "source": [
        "#Visualização gráfica\n",
        "\n",
        "plt.figure(figsize=(10,6))\n",
        "plt.plot(k_list, scoring,color='red',linestyle='dashed',marker='o')"
      ],
      "execution_count": null,
      "outputs": [
        {
          "output_type": "error",
          "ename": "NameError",
          "evalue": "ignored",
          "traceback": [
            "\u001b[0;31m---------------------------------------------------------------------------\u001b[0m",
            "\u001b[0;31mNameError\u001b[0m                                 Traceback (most recent call last)",
            "\u001b[0;32m<ipython-input-42-b25085c73819>\u001b[0m in \u001b[0;36m<module>\u001b[0;34m()\u001b[0m\n\u001b[1;32m      2\u001b[0m \u001b[0;34m\u001b[0m\u001b[0m\n\u001b[1;32m      3\u001b[0m \u001b[0mplt\u001b[0m\u001b[0;34m.\u001b[0m\u001b[0mfigure\u001b[0m\u001b[0;34m(\u001b[0m\u001b[0mfigsize\u001b[0m\u001b[0;34m=\u001b[0m\u001b[0;34m(\u001b[0m\u001b[0;36m10\u001b[0m\u001b[0;34m,\u001b[0m\u001b[0;36m6\u001b[0m\u001b[0;34m)\u001b[0m\u001b[0;34m)\u001b[0m\u001b[0;34m\u001b[0m\u001b[0;34m\u001b[0m\u001b[0m\n\u001b[0;32m----> 4\u001b[0;31m \u001b[0mplt\u001b[0m\u001b[0;34m.\u001b[0m\u001b[0mplot\u001b[0m\u001b[0;34m(\u001b[0m\u001b[0mk_list\u001b[0m\u001b[0;34m,\u001b[0m \u001b[0mscoring\u001b[0m\u001b[0;34m,\u001b[0m\u001b[0mcolor\u001b[0m\u001b[0;34m=\u001b[0m\u001b[0;34m'red'\u001b[0m\u001b[0;34m,\u001b[0m\u001b[0mlinestyle\u001b[0m\u001b[0;34m=\u001b[0m\u001b[0;34m'dashed'\u001b[0m\u001b[0;34m,\u001b[0m\u001b[0mmarker\u001b[0m\u001b[0;34m=\u001b[0m\u001b[0;34m'o'\u001b[0m\u001b[0;34m)\u001b[0m\u001b[0;34m\u001b[0m\u001b[0;34m\u001b[0m\u001b[0m\n\u001b[0m",
            "\u001b[0;31mNameError\u001b[0m: name 'scoring' is not defined"
          ]
        },
        {
          "output_type": "display_data",
          "data": {
            "text/plain": [
              "<Figure size 720x432 with 0 Axes>"
            ]
          },
          "metadata": {}
        }
      ]
    }
  ]
}